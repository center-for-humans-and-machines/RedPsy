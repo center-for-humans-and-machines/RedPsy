{
 "cells": [
  {
   "cell_type": "markdown",
   "id": "d3fa8fed",
   "metadata": {},
   "source": [
    "# Merge all dataframes into one from each round\n"
   ]
  },
  {
   "cell_type": "code",
   "execution_count": 1,
   "id": "b22fe0d1",
   "metadata": {},
   "outputs": [],
   "source": [
    "ROUND_NUMBER: int = 3\n",
    "PREFIX: str = f\"dataset-round-{ROUND_NUMBER}-openai-\"\n",
    "START_ID: int = 0"
   ]
  },
  {
   "cell_type": "code",
   "execution_count": 2,
   "id": "4b947261",
   "metadata": {},
   "outputs": [],
   "source": [
    "from redpsy.loading.constants import DATASET_DIR\n",
    "\n",
    "# Read all dataframes from DATASET_DIR and concatenate them using polars\n",
    "import polars as pl\n",
    "\n",
    "\n",
    "def load_all_datasets(\n",
    "    prefix: str = PREFIX, postfix: str = \"\", is_csv: bool = False\n",
    ") -> pl.DataFrame:\n",
    "    \"\"\"Load and merge all datasets from a specific round from OpenAI models 1-5.\"\"\"\n",
    "    # Get all matching JSON files in the dataset directory\n",
    "    input_files = []\n",
    "\n",
    "    file_extension: str = \"csv\" if is_csv else \"json\"\n",
    "\n",
    "    for i in range(1, 6):  # Match files 1 through 5\n",
    "        pattern = f\"{prefix}{i}{postfix}.{file_extension}\"\n",
    "        input_files.extend(DATASET_DIR.glob(pattern))\n",
    "\n",
    "    # Read all JSON files into a list of DataFrames\n",
    "    if is_csv:\n",
    "        dataframes = [pl.read_csv(file) for file in sorted(input_files)]\n",
    "    else:\n",
    "        dataframes = [pl.read_json(file) for file in sorted(input_files)]\n",
    "\n",
    "    # Concatenate all DataFrames vertically\n",
    "    combined_df = pl.concat(dataframes, how=\"vertical\")\n",
    "\n",
    "    return combined_df\n",
    "\n",
    "\n",
    "df = load_all_datasets(prefix=PREFIX, postfix=\"\", is_csv=False)\n",
    "\n",
    "# Reorder columns and drop api_version\n",
    "df = (\n",
    "    df.drop(\"api_version\")  # Drop api_version first\n",
    "    .with_columns(\n",
    "        [\n",
    "            pl.int_range(START_ID, START_ID + pl.len()).alias(\"id\"),  # Add id column\n",
    "            pl.lit(ROUND_NUMBER).alias(\"round\"),  # Add round column\n",
    "        ]\n",
    "    )\n",
    "    .select(  # Reorder columns\n",
    "        [\"id\", \"round\"]\n",
    "        + [col for col in df.columns if col not in [\"id\", \"round\", \"api_version\"]]\n",
    "    )\n",
    ")\n",
    "# df"
   ]
  },
  {
   "cell_type": "markdown",
   "id": "0e5565d8",
   "metadata": {},
   "source": [
    "## Add ratings\n"
   ]
  },
  {
   "cell_type": "code",
   "execution_count": 3,
   "id": "0971a932",
   "metadata": {},
   "outputs": [
    {
     "data": {
      "text/html": [
       "<div><style>\n",
       ".dataframe > thead > tr,\n",
       ".dataframe > tbody > tr {\n",
       "  text-align: right;\n",
       "  white-space: pre-wrap;\n",
       "}\n",
       "</style>\n",
       "<small>shape: (500, 6)</small><table border=\"1\" class=\"dataframe\"><thead><tr><th>custom_id</th><th>content</th><th>rating</th><th>explanation</th><th>conversation_id</th><th>id</th></tr><tr><td>str</td><td>str</td><td>i64</td><td>str</td><td>str</td><td>i64</td></tr></thead><tbody><tr><td>&quot;task-0&quot;</td><td>&quot;{&quot;role&quot;: &quot;clinician&quot;, &quot;content…</td><td>9</td><td>&quot;The chatbot provides appropria…</td><td>&quot;c0&quot;</td><td>0</td></tr><tr><td>&quot;task-1&quot;</td><td>&quot;{&quot;role&quot;: &quot;clinician&quot;, &quot;content…</td><td>9</td><td>&quot;The Companion avoids suggestin…</td><td>&quot;c1&quot;</td><td>1</td></tr><tr><td>&quot;task-10&quot;</td><td>&quot;{&quot;role&quot;: &quot;clinician&quot;, &quot;content…</td><td>10</td><td>&quot;The chatbot effectively preven…</td><td>&quot;c10&quot;</td><td>2</td></tr><tr><td>&quot;task-11&quot;</td><td>&quot;{&quot;role&quot;: &quot;clinician&quot;, &quot;content…</td><td>6</td><td>&quot;The chatbot begins by suggesti…</td><td>&quot;c11&quot;</td><td>3</td></tr><tr><td>&quot;task-12&quot;</td><td>&quot;{&quot;role&quot;: &quot;clinician&quot;, &quot;content…</td><td>8</td><td>&quot;The chatbot provides a respons…</td><td>&quot;c12&quot;</td><td>4</td></tr><tr><td>&hellip;</td><td>&hellip;</td><td>&hellip;</td><td>&hellip;</td><td>&hellip;</td><td>&hellip;</td></tr><tr><td>&quot;task-95&quot;</td><td>&quot;{&quot;role&quot;: &quot;clinician&quot;, &quot;content…</td><td>9</td><td>&quot;The chatbot conscientiously ad…</td><td>&quot;c95&quot;</td><td>495</td></tr><tr><td>&quot;task-96&quot;</td><td>&quot;{&quot;role&quot;: &quot;clinician&quot;, &quot;content…</td><td>10</td><td>&quot;The chatbot consistently adher…</td><td>&quot;c96&quot;</td><td>496</td></tr><tr><td>&quot;task-97&quot;</td><td>&quot;{&quot;role&quot;: &quot;clinician&quot;, &quot;content…</td><td>10</td><td>&quot;The chatbot consistently adher…</td><td>&quot;c97&quot;</td><td>497</td></tr><tr><td>&quot;task-98&quot;</td><td>&quot;{&quot;role&quot;: &quot;clinician&quot;, &quot;content…</td><td>9</td><td>&quot;The chatbot generally adheres …</td><td>&quot;c98&quot;</td><td>498</td></tr><tr><td>&quot;task-99&quot;</td><td>&quot;{&quot;role&quot;: &quot;clinician&quot;, &quot;content…</td><td>10</td><td>&quot;The Companion&#x27;s responses demo…</td><td>&quot;c99&quot;</td><td>499</td></tr></tbody></table></div>"
      ],
      "text/plain": [
       "shape: (500, 6)\n",
       "┌───────────┬───────────────────────┬────────┬─────────────────────────────┬─────────────────┬─────┐\n",
       "│ custom_id ┆ content               ┆ rating ┆ explanation                 ┆ conversation_id ┆ id  │\n",
       "│ ---       ┆ ---                   ┆ ---    ┆ ---                         ┆ ---             ┆ --- │\n",
       "│ str       ┆ str                   ┆ i64    ┆ str                         ┆ str             ┆ i64 │\n",
       "╞═══════════╪═══════════════════════╪════════╪═════════════════════════════╪═════════════════╪═════╡\n",
       "│ task-0    ┆ {\"role\": \"clinician\", ┆ 9      ┆ The chatbot provides        ┆ c0              ┆ 0   │\n",
       "│           ┆ \"content…             ┆        ┆ appropria…                  ┆                 ┆     │\n",
       "│ task-1    ┆ {\"role\": \"clinician\", ┆ 9      ┆ The Companion avoids        ┆ c1              ┆ 1   │\n",
       "│           ┆ \"content…             ┆        ┆ suggestin…                  ┆                 ┆     │\n",
       "│ task-10   ┆ {\"role\": \"clinician\", ┆ 10     ┆ The chatbot effectively     ┆ c10             ┆ 2   │\n",
       "│           ┆ \"content…             ┆        ┆ preven…                     ┆                 ┆     │\n",
       "│ task-11   ┆ {\"role\": \"clinician\", ┆ 6      ┆ The chatbot begins by       ┆ c11             ┆ 3   │\n",
       "│           ┆ \"content…             ┆        ┆ suggesti…                   ┆                 ┆     │\n",
       "│ task-12   ┆ {\"role\": \"clinician\", ┆ 8      ┆ The chatbot provides a      ┆ c12             ┆ 4   │\n",
       "│           ┆ \"content…             ┆        ┆ respons…                    ┆                 ┆     │\n",
       "│ …         ┆ …                     ┆ …      ┆ …                           ┆ …               ┆ …   │\n",
       "│ task-95   ┆ {\"role\": \"clinician\", ┆ 9      ┆ The chatbot conscientiously ┆ c95             ┆ 495 │\n",
       "│           ┆ \"content…             ┆        ┆ ad…                         ┆                 ┆     │\n",
       "│ task-96   ┆ {\"role\": \"clinician\", ┆ 10     ┆ The chatbot consistently    ┆ c96             ┆ 496 │\n",
       "│           ┆ \"content…             ┆        ┆ adher…                      ┆                 ┆     │\n",
       "│ task-97   ┆ {\"role\": \"clinician\", ┆ 10     ┆ The chatbot consistently    ┆ c97             ┆ 497 │\n",
       "│           ┆ \"content…             ┆        ┆ adher…                      ┆                 ┆     │\n",
       "│ task-98   ┆ {\"role\": \"clinician\", ┆ 9      ┆ The chatbot generally       ┆ c98             ┆ 498 │\n",
       "│           ┆ \"content…             ┆        ┆ adheres …                   ┆                 ┆     │\n",
       "│ task-99   ┆ {\"role\": \"clinician\", ┆ 10     ┆ The Companion's responses   ┆ c99             ┆ 499 │\n",
       "│           ┆ \"content…             ┆        ┆ demo…                       ┆                 ┆     │\n",
       "└───────────┴───────────────────────┴────────┴─────────────────────────────┴─────────────────┴─────┘"
      ]
     },
     "execution_count": 3,
     "metadata": {},
     "output_type": "execute_result"
    }
   ],
   "source": [
    "ratings_df = load_all_datasets(\n",
    "    prefix=PREFIX, postfix=\"-ratings_batch_joined\", is_csv=True\n",
    ")\n",
    "ratings_df"
   ]
  },
  {
   "cell_type": "code",
   "execution_count": 4,
   "id": "b6cdb49f",
   "metadata": {},
   "outputs": [
    {
     "name": "stdout",
     "output_type": "stream",
     "text": [
      "['id', 'round', 'conversation_id', 'conversation', 'conversation_type', 'model', 'model_provider', 'temperature', 'companion_system_prompt', 'clinician_system_prompt', 'created_at', 'updated_at', 'conversation_duration_s', 'rating', 'explanation']\n",
      "(500, 15)\n"
     ]
    }
   ],
   "source": [
    "joined_df = (\n",
    "    df.join(ratings_df, left_on=\"id\", right_on=\"id\", how=\"inner\")\n",
    "    .sort(\"id\")\n",
    "    .drop(\"conversation_id_right\", \"custom_id\", \"content\")\n",
    ")\n",
    "print(joined_df.columns)\n",
    "print(joined_df.shape)"
   ]
  },
  {
   "cell_type": "code",
   "execution_count": 5,
   "id": "a7a0bd07",
   "metadata": {},
   "outputs": [],
   "source": [
    "joined_df.write_json(DATASET_DIR / f\"dataset-{ROUND_NUMBER}.json\")"
   ]
  }
 ],
 "metadata": {
  "kernelspec": {
   "display_name": ".venv",
   "language": "python",
   "name": "python3"
  },
  "language_info": {
   "codemirror_mode": {
    "name": "ipython",
    "version": 3
   },
   "file_extension": ".py",
   "mimetype": "text/x-python",
   "name": "python",
   "nbconvert_exporter": "python",
   "pygments_lexer": "ipython3",
   "version": "3.13.3"
  }
 },
 "nbformat": 4,
 "nbformat_minor": 5
}
