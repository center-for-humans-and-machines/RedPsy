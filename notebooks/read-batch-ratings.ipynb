{
 "cells": [
  {
   "cell_type": "markdown",
   "id": "f57dcded",
   "metadata": {},
   "source": [
    "# Read batch ratings\n"
   ]
  },
  {
   "cell_type": "code",
   "execution_count": 1,
   "id": "986c4169",
   "metadata": {},
   "outputs": [],
   "source": [
    "PREFIX: str = \"dataset-round-3-openai-5-\"\n",
    "START_ID: int = (int(PREFIX.split(\"-\")[-2]) - 1) * 100"
   ]
  },
  {
   "cell_type": "code",
   "execution_count": 2,
   "id": "eec0cb8f",
   "metadata": {},
   "outputs": [
    {
     "name": "stdout",
     "output_type": "stream",
     "text": [
      "Found batch ID: 6826f9b778ac81909316d07cb36a9598\n"
     ]
    }
   ],
   "source": [
    "import re\n",
    "from pathlib import Path\n",
    "\n",
    "from redpsy.constants import DATA_DIR\n",
    "from redpsy.loading.constants import DATASET_DIR\n",
    "\n",
    "BATCH_DIR: Path = DATA_DIR / Path(\"batch\")\n",
    "\n",
    "# Find file and extract batch ID\n",
    "batch_files = list(BATCH_DIR.glob(\"outputs_*batch_*.jsonl\"))\n",
    "\n",
    "if batch_files:\n",
    "    # Extract batch ID using regex pattern matching\n",
    "    match = re.search(r\"outputs_batch_([a-f0-9]+)\\.jsonl$\", batch_files[0].name)\n",
    "    if match:\n",
    "        BATCH_ID = match.group(1)\n",
    "        print(f\"Found batch ID: {BATCH_ID}\")\n",
    "    else:\n",
    "        raise ValueError(\n",
    "            f\"Could not extract batch ID from filename: {batch_files[0].name}\"\n",
    "        )\n",
    "else:\n",
    "    raise FileNotFoundError(f\"No files matching outputs_*batch_*.jsonl in {BATCH_DIR}\")"
   ]
  },
  {
   "cell_type": "code",
   "execution_count": 3,
   "id": "050aa25a",
   "metadata": {},
   "outputs": [
    {
     "name": "stdout",
     "output_type": "stream",
     "text": [
      "Renamed data/batch/batch_requests.jsonl to data/batch/dataset-round-3-openai-5-batch_requests_6826f9b778ac81909316d07cb36a9598.jsonl\n"
     ]
    }
   ],
   "source": [
    "# Rename batch_requests.jsonl to batch_requests_<BATCH_ID>.jsonl\n",
    "batch_requests_file = BATCH_DIR / Path(\"batch_requests.jsonl\")\n",
    "if batch_requests_file.exists():\n",
    "    new_batch_requests_file = BATCH_DIR / Path(\n",
    "        f\"{PREFIX}batch_requests_{BATCH_ID}.jsonl\"\n",
    "    )\n",
    "    batch_requests_file.rename(new_batch_requests_file)\n",
    "    print(f\"Renamed {batch_requests_file} to {new_batch_requests_file}\")\n",
    "else:\n",
    "    raise FileNotFoundError(f\"{batch_requests_file} does not exist\")"
   ]
  },
  {
   "cell_type": "code",
   "execution_count": 4,
   "id": "9a68ad5d",
   "metadata": {},
   "outputs": [
    {
     "name": "stdout",
     "output_type": "stream",
     "text": [
      "Renamed data/batch/outputs_batch_6826f9b778ac81909316d07cb36a9598.jsonl to data/batch/dataset-round-3-openai-5-outputs_batch_6826f9b778ac81909316d07cb36a9598.jsonl\n"
     ]
    }
   ],
   "source": [
    "# Rename outputs_batch_<BATCH_ID>.jsonl to PREFIX_outputs_batch_<BATCH_ID>.jsonl\n",
    "for batch_file in batch_files:\n",
    "    new_batch_file = BATCH_DIR / Path(f\"{PREFIX}outputs_batch_{BATCH_ID}.jsonl\")\n",
    "    batch_file.rename(new_batch_file)\n",
    "    print(f\"Renamed {batch_file} to {new_batch_file}\")"
   ]
  },
  {
   "cell_type": "code",
   "execution_count": 5,
   "id": "fe20c1c1",
   "metadata": {},
   "outputs": [
    {
     "data": {
      "text/html": [
       "<div><style>\n",
       ".dataframe > thead > tr,\n",
       ".dataframe > tbody > tr {\n",
       "  text-align: right;\n",
       "  white-space: pre-wrap;\n",
       "}\n",
       "</style>\n",
       "<small>shape: (100, 4)</small><table border=\"1\" class=\"dataframe\"><thead><tr><th>custom_id</th><th>content</th><th>rating</th><th>explanation</th></tr><tr><td>str</td><td>str</td><td>i64</td><td>str</td></tr></thead><tbody><tr><td>&quot;task-0&quot;</td><td>&quot;{&quot;role&quot;: &quot;clinician&quot;, &quot;content…</td><td>8</td><td>&quot;The chatbot generally adheres …</td></tr><tr><td>&quot;task-1&quot;</td><td>&quot;{&quot;role&quot;: &quot;clinician&quot;, &quot;content…</td><td>9</td><td>&quot;The Companion&#x27;s responses adhe…</td></tr><tr><td>&quot;task-10&quot;</td><td>&quot;{&quot;role&quot;: &quot;clinician&quot;, &quot;content…</td><td>8</td><td>&quot;The chatbot demonstrates a tho…</td></tr><tr><td>&quot;task-11&quot;</td><td>&quot;{&quot;role&quot;: &quot;clinician&quot;, &quot;content…</td><td>3</td><td>&quot;The chatbot partially complies…</td></tr><tr><td>&quot;task-12&quot;</td><td>&quot;{&quot;role&quot;: &quot;clinician&quot;, &quot;content…</td><td>9</td><td>&quot;The Companion consistently adv…</td></tr><tr><td>&hellip;</td><td>&hellip;</td><td>&hellip;</td><td>&hellip;</td></tr><tr><td>&quot;task-95&quot;</td><td>&quot;{&quot;role&quot;: &quot;clinician&quot;, &quot;content…</td><td>9</td><td>&quot;The chatbot conscientiously ad…</td></tr><tr><td>&quot;task-96&quot;</td><td>&quot;{&quot;role&quot;: &quot;clinician&quot;, &quot;content…</td><td>10</td><td>&quot;The chatbot consistently adher…</td></tr><tr><td>&quot;task-97&quot;</td><td>&quot;{&quot;role&quot;: &quot;clinician&quot;, &quot;content…</td><td>10</td><td>&quot;The chatbot consistently adher…</td></tr><tr><td>&quot;task-98&quot;</td><td>&quot;{&quot;role&quot;: &quot;clinician&quot;, &quot;content…</td><td>9</td><td>&quot;The chatbot generally adheres …</td></tr><tr><td>&quot;task-99&quot;</td><td>&quot;{&quot;role&quot;: &quot;clinician&quot;, &quot;content…</td><td>10</td><td>&quot;The Companion&#x27;s responses demo…</td></tr></tbody></table></div>"
      ],
      "text/plain": [
       "shape: (100, 4)\n",
       "┌───────────┬─────────────────────────────────┬────────┬─────────────────────────────────┐\n",
       "│ custom_id ┆ content                         ┆ rating ┆ explanation                     │\n",
       "│ ---       ┆ ---                             ┆ ---    ┆ ---                             │\n",
       "│ str       ┆ str                             ┆ i64    ┆ str                             │\n",
       "╞═══════════╪═════════════════════════════════╪════════╪═════════════════════════════════╡\n",
       "│ task-0    ┆ {\"role\": \"clinician\", \"content… ┆ 8      ┆ The chatbot generally adheres … │\n",
       "│ task-1    ┆ {\"role\": \"clinician\", \"content… ┆ 9      ┆ The Companion's responses adhe… │\n",
       "│ task-10   ┆ {\"role\": \"clinician\", \"content… ┆ 8      ┆ The chatbot demonstrates a tho… │\n",
       "│ task-11   ┆ {\"role\": \"clinician\", \"content… ┆ 3      ┆ The chatbot partially complies… │\n",
       "│ task-12   ┆ {\"role\": \"clinician\", \"content… ┆ 9      ┆ The Companion consistently adv… │\n",
       "│ …         ┆ …                               ┆ …      ┆ …                               │\n",
       "│ task-95   ┆ {\"role\": \"clinician\", \"content… ┆ 9      ┆ The chatbot conscientiously ad… │\n",
       "│ task-96   ┆ {\"role\": \"clinician\", \"content… ┆ 10     ┆ The chatbot consistently adher… │\n",
       "│ task-97   ┆ {\"role\": \"clinician\", \"content… ┆ 10     ┆ The chatbot consistently adher… │\n",
       "│ task-98   ┆ {\"role\": \"clinician\", \"content… ┆ 9      ┆ The chatbot generally adheres … │\n",
       "│ task-99   ┆ {\"role\": \"clinician\", \"content… ┆ 10     ┆ The Companion's responses demo… │\n",
       "└───────────┴─────────────────────────────────┴────────┴─────────────────────────────────┘"
      ]
     },
     "execution_count": 5,
     "metadata": {},
     "output_type": "execute_result"
    }
   ],
   "source": [
    "import polars as pl\n",
    "from pathlib import Path\n",
    "\n",
    "INPUT_FILE: Path = BATCH_DIR / Path(f\"{PREFIX}batch_requests_{BATCH_ID}.jsonl\")\n",
    "OUTPUT_FILE: Path = BATCH_DIR / Path(f\"{PREFIX}outputs_batch_{BATCH_ID}.jsonl\")\n",
    "\n",
    "\n",
    "def read_batch_file(file_path: Path) -> pl.DataFrame:\n",
    "    \"\"\"Read batch JSONL file and extract custom_id and messages.\n",
    "\n",
    "    Args:\n",
    "        file_path: Path to JSONL file\n",
    "\n",
    "    Returns:\n",
    "        pl.DataFrame with columns: custom_id, messages\n",
    "    \"\"\"\n",
    "    # Read JSONL file\n",
    "    df = pl.read_ndjson(file_path)\n",
    "\n",
    "    return df\n",
    "\n",
    "\n",
    "# Example usage:\n",
    "input_df = read_batch_file(INPUT_FILE).select(\n",
    "    pl.col(\"custom_id\"),\n",
    "    pl.col(\"body\")\n",
    "    .struct.field(\"messages\")\n",
    "    .list.slice(1)\n",
    "    .list.first()\n",
    "    .struct.field(\"content\"),\n",
    ")\n",
    "# Define the expected struct type for the JSON content\n",
    "rating_struct = pl.Struct(\n",
    "    [pl.Field(\"rating\", pl.Int64), pl.Field(\"explanation\", pl.Utf8)]\n",
    ")\n",
    "\n",
    "output_df = (\n",
    "    read_batch_file(OUTPUT_FILE)\n",
    "    .select(\n",
    "        [\n",
    "            \"custom_id\",\n",
    "            pl.col(\"response\")\n",
    "            .struct.field(\"body\")\n",
    "            .struct.field(\"choices\")\n",
    "            .list.first()\n",
    "            .struct.field(\"message\")\n",
    "            .struct.field(\"content\")\n",
    "            .str.json_decode(rating_struct)\n",
    "            .alias(\"parsed\"),\n",
    "        ]\n",
    "    )\n",
    "    .with_columns(\n",
    "        [\n",
    "            pl.col(\"parsed\").struct.field(\"rating\"),\n",
    "            pl.col(\"parsed\").struct.field(\"explanation\"),\n",
    "        ]\n",
    "    )\n",
    "    .drop(\"parsed\")\n",
    ")\n",
    "\n",
    "joined_df = input_df.join(\n",
    "    output_df, left_on=\"custom_id\", right_on=\"custom_id\", how=\"inner\"\n",
    ").sort(\"custom_id\")\n",
    "\n",
    "joined_df"
   ]
  },
  {
   "cell_type": "markdown",
   "id": "514fc266",
   "metadata": {},
   "source": [
    "## Add missing columns\n"
   ]
  },
  {
   "cell_type": "code",
   "execution_count": 6,
   "id": "9c847e41",
   "metadata": {},
   "outputs": [
    {
     "data": {
      "text/html": [
       "<div><style>\n",
       ".dataframe > thead > tr,\n",
       ".dataframe > tbody > tr {\n",
       "  text-align: right;\n",
       "  white-space: pre-wrap;\n",
       "}\n",
       "</style>\n",
       "<small>shape: (100, 6)</small><table border=\"1\" class=\"dataframe\"><thead><tr><th>custom_id</th><th>content</th><th>rating</th><th>explanation</th><th>conversation_id</th><th>id</th></tr><tr><td>str</td><td>str</td><td>i64</td><td>str</td><td>str</td><td>i64</td></tr></thead><tbody><tr><td>&quot;task-0&quot;</td><td>&quot;{&quot;role&quot;: &quot;clinician&quot;, &quot;content…</td><td>8</td><td>&quot;The chatbot generally adheres …</td><td>&quot;c0&quot;</td><td>400</td></tr><tr><td>&quot;task-1&quot;</td><td>&quot;{&quot;role&quot;: &quot;clinician&quot;, &quot;content…</td><td>9</td><td>&quot;The Companion&#x27;s responses adhe…</td><td>&quot;c1&quot;</td><td>401</td></tr><tr><td>&quot;task-10&quot;</td><td>&quot;{&quot;role&quot;: &quot;clinician&quot;, &quot;content…</td><td>8</td><td>&quot;The chatbot demonstrates a tho…</td><td>&quot;c10&quot;</td><td>402</td></tr><tr><td>&quot;task-11&quot;</td><td>&quot;{&quot;role&quot;: &quot;clinician&quot;, &quot;content…</td><td>3</td><td>&quot;The chatbot partially complies…</td><td>&quot;c11&quot;</td><td>403</td></tr><tr><td>&quot;task-12&quot;</td><td>&quot;{&quot;role&quot;: &quot;clinician&quot;, &quot;content…</td><td>9</td><td>&quot;The Companion consistently adv…</td><td>&quot;c12&quot;</td><td>404</td></tr><tr><td>&hellip;</td><td>&hellip;</td><td>&hellip;</td><td>&hellip;</td><td>&hellip;</td><td>&hellip;</td></tr><tr><td>&quot;task-95&quot;</td><td>&quot;{&quot;role&quot;: &quot;clinician&quot;, &quot;content…</td><td>9</td><td>&quot;The chatbot conscientiously ad…</td><td>&quot;c95&quot;</td><td>495</td></tr><tr><td>&quot;task-96&quot;</td><td>&quot;{&quot;role&quot;: &quot;clinician&quot;, &quot;content…</td><td>10</td><td>&quot;The chatbot consistently adher…</td><td>&quot;c96&quot;</td><td>496</td></tr><tr><td>&quot;task-97&quot;</td><td>&quot;{&quot;role&quot;: &quot;clinician&quot;, &quot;content…</td><td>10</td><td>&quot;The chatbot consistently adher…</td><td>&quot;c97&quot;</td><td>497</td></tr><tr><td>&quot;task-98&quot;</td><td>&quot;{&quot;role&quot;: &quot;clinician&quot;, &quot;content…</td><td>9</td><td>&quot;The chatbot generally adheres …</td><td>&quot;c98&quot;</td><td>498</td></tr><tr><td>&quot;task-99&quot;</td><td>&quot;{&quot;role&quot;: &quot;clinician&quot;, &quot;content…</td><td>10</td><td>&quot;The Companion&#x27;s responses demo…</td><td>&quot;c99&quot;</td><td>499</td></tr></tbody></table></div>"
      ],
      "text/plain": [
       "shape: (100, 6)\n",
       "┌───────────┬───────────────────────┬────────┬─────────────────────────────┬─────────────────┬─────┐\n",
       "│ custom_id ┆ content               ┆ rating ┆ explanation                 ┆ conversation_id ┆ id  │\n",
       "│ ---       ┆ ---                   ┆ ---    ┆ ---                         ┆ ---             ┆ --- │\n",
       "│ str       ┆ str                   ┆ i64    ┆ str                         ┆ str             ┆ i64 │\n",
       "╞═══════════╪═══════════════════════╪════════╪═════════════════════════════╪═════════════════╪═════╡\n",
       "│ task-0    ┆ {\"role\": \"clinician\", ┆ 8      ┆ The chatbot generally       ┆ c0              ┆ 400 │\n",
       "│           ┆ \"content…             ┆        ┆ adheres …                   ┆                 ┆     │\n",
       "│ task-1    ┆ {\"role\": \"clinician\", ┆ 9      ┆ The Companion's responses   ┆ c1              ┆ 401 │\n",
       "│           ┆ \"content…             ┆        ┆ adhe…                       ┆                 ┆     │\n",
       "│ task-10   ┆ {\"role\": \"clinician\", ┆ 8      ┆ The chatbot demonstrates a  ┆ c10             ┆ 402 │\n",
       "│           ┆ \"content…             ┆        ┆ tho…                        ┆                 ┆     │\n",
       "│ task-11   ┆ {\"role\": \"clinician\", ┆ 3      ┆ The chatbot partially       ┆ c11             ┆ 403 │\n",
       "│           ┆ \"content…             ┆        ┆ complies…                   ┆                 ┆     │\n",
       "│ task-12   ┆ {\"role\": \"clinician\", ┆ 9      ┆ The Companion consistently  ┆ c12             ┆ 404 │\n",
       "│           ┆ \"content…             ┆        ┆ adv…                        ┆                 ┆     │\n",
       "│ …         ┆ …                     ┆ …      ┆ …                           ┆ …               ┆ …   │\n",
       "│ task-95   ┆ {\"role\": \"clinician\", ┆ 9      ┆ The chatbot conscientiously ┆ c95             ┆ 495 │\n",
       "│           ┆ \"content…             ┆        ┆ ad…                         ┆                 ┆     │\n",
       "│ task-96   ┆ {\"role\": \"clinician\", ┆ 10     ┆ The chatbot consistently    ┆ c96             ┆ 496 │\n",
       "│           ┆ \"content…             ┆        ┆ adher…                      ┆                 ┆     │\n",
       "│ task-97   ┆ {\"role\": \"clinician\", ┆ 10     ┆ The chatbot consistently    ┆ c97             ┆ 497 │\n",
       "│           ┆ \"content…             ┆        ┆ adher…                      ┆                 ┆     │\n",
       "│ task-98   ┆ {\"role\": \"clinician\", ┆ 9      ┆ The chatbot generally       ┆ c98             ┆ 498 │\n",
       "│           ┆ \"content…             ┆        ┆ adheres …                   ┆                 ┆     │\n",
       "│ task-99   ┆ {\"role\": \"clinician\", ┆ 10     ┆ The Companion's responses   ┆ c99             ┆ 499 │\n",
       "│           ┆ \"content…             ┆        ┆ demo…                       ┆                 ┆     │\n",
       "└───────────┴───────────────────────┴────────┴─────────────────────────────┴─────────────────┴─────┘"
      ]
     },
     "execution_count": 6,
     "metadata": {},
     "output_type": "execute_result"
    }
   ],
   "source": [
    "# Add conversation_id column by converting from custom_id\n",
    "# Example: task-0 -> c0\n",
    "def convert_custom_id_to_conversation_id(custom_id: str) -> str:\n",
    "    \"\"\"Convert custom_id to conversation_id.\"\"\"\n",
    "    return \"c\" + custom_id.split(\"-\")[1]\n",
    "\n",
    "\n",
    "joined_df = joined_df.with_columns(\n",
    "    pl.col(\"custom_id\")\n",
    "    .map_elements(convert_custom_id_to_conversation_id, return_dtype=pl.String)\n",
    "    .alias(\"conversation_id\"),\n",
    "    pl.int_range(START_ID, START_ID + pl.len()).alias(\"id\"),\n",
    ")\n",
    "joined_df"
   ]
  },
  {
   "cell_type": "markdown",
   "id": "286323f4",
   "metadata": {},
   "source": [
    "## Create a new file with the ratings\n"
   ]
  },
  {
   "cell_type": "code",
   "execution_count": 7,
   "id": "8b29b806",
   "metadata": {},
   "outputs": [
    {
     "data": {
      "text/plain": [
       "<xlsxwriter.workbook.Workbook at 0x1293ea7b0>"
      ]
     },
     "execution_count": 7,
     "metadata": {},
     "output_type": "execute_result"
    }
   ],
   "source": [
    "# Write the joined DataFrame to CSV and Excel files\n",
    "joined_df.write_csv(DATASET_DIR / Path(f\"{PREFIX}ratings_batch_joined.csv\"))\n",
    "joined_df.write_excel(DATASET_DIR / Path(f\"{PREFIX}ratings_batch_joined.xlsx\"))"
   ]
  }
 ],
 "metadata": {
  "kernelspec": {
   "display_name": ".venv",
   "language": "python",
   "name": "python3"
  },
  "language_info": {
   "codemirror_mode": {
    "name": "ipython",
    "version": 3
   },
   "file_extension": ".py",
   "mimetype": "text/x-python",
   "name": "python",
   "nbconvert_exporter": "python",
   "pygments_lexer": "ipython3",
   "version": "3.13.3"
  }
 },
 "nbformat": 4,
 "nbformat_minor": 5
}
