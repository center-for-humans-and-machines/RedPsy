{
 "cells": [
  {
   "cell_type": "code",
   "execution_count": null,
   "id": "764610a4",
   "metadata": {},
   "outputs": [],
   "source": [
    "import os\n",
    "\n",
    "import polars as pl\n",
    "from dotenv import load_dotenv\n",
    "from langfuse.decorators import langfuse_context, observe\n",
    "from langfuse.openai import AzureOpenAI"
   ]
  },
  {
   "cell_type": "code",
   "execution_count": null,
   "id": "480699b2",
   "metadata": {},
   "outputs": [],
   "source": [
    "# Set up the environment\n",
    "load_dotenv()\n",
    "# openai.api_key = os.environ[\"AZURE_OPENAI_API_KEY\"]\n",
    "\n",
    "endpoint = os.getenv(\"ENDPOINT_URL\", None)\n",
    "deployment = os.getenv(\"DEPLOYMENT_NAME\", \"gpt-35-turbo\")\n",
    "subscription_key = os.getenv(\"AZURE_OPENAI_API_KEY\")\n",
    "\n",
    "PROVIDER_NAME = \"openai-5\"  # \"together-ai\" 'openai'\n",
    "\n",
    "CONV_PATH = f\"../data/dataset/dataset-round-2-{PROVIDER_NAME}.json\"\n",
    "OUTPUT_PATH = f\"../data/dataset/dataset-round-2-{PROVIDER_NAME}-embedded.json\"\n",
    "IDEAL_PATH = \"../data/dataset/dataset-ideal.json\"\n",
    "LLM_EVAL_PATH = \"../data/ratings_batch_joined.csv\""
   ]
  },
  {
   "cell_type": "code",
   "execution_count": 3,
   "id": "a059d0dc",
   "metadata": {},
   "outputs": [
    {
     "name": "stdout",
     "output_type": "stream",
     "text": [
      "shape: (100, 2)\n",
      "┌───────┬─────────────────────────────────┐\n",
      "│ index ┆ message                         │\n",
      "│ ---   ┆ ---                             │\n",
      "│ i64   ┆ str                             │\n",
      "╞═══════╪═════════════════════════════════╡\n",
      "│ 0     ┆ I'm really sorry to hear that … │\n",
      "│ 1     ┆ It sounds like you're experien… │\n",
      "│ 2     ┆ It's not unusual to feel this … │\n",
      "│ 3     ┆ It sounds like you might be ex… │\n",
      "│ 4     ┆ I'm really sorry to hear about… │\n",
      "│ …     ┆ …                               │\n",
      "│ 95    ┆ Encourage them to focus on eff… │\n",
      "│ 96    ┆ Starting college can be tough,… │\n",
      "│ 97    ┆ When you're feeling extremely … │\n",
      "│ 98    ┆ It's okay to feel this way, bu… │\n",
      "│ 99    ┆ You're not alone in feeling th… │\n",
      "└───────┴─────────────────────────────────┘\n"
     ]
    }
   ],
   "source": [
    "df = pl.read_json(CONV_PATH)\n",
    "cdf = pl.DataFrame()\n",
    "\n",
    "for row in df.iter_rows(named=True):\n",
    "    # Extract the text from the 'conversation' column\n",
    "\n",
    "    res = row[\"conversation\"][1][\"content\"]\n",
    "    cid = int(row[\"conversation_id\"].split(\"c\")[1])\n",
    "\n",
    "    # append the result to the dataframe\n",
    "    cdf = cdf.vstack(pl.DataFrame({\"index\": [cid], \"message\": [res]}))\n",
    "\n",
    "print(cdf)"
   ]
  },
  {
   "cell_type": "code",
   "execution_count": 4,
   "id": "52e3b2fd",
   "metadata": {},
   "outputs": [],
   "source": [
    "embedding_model = \"text-embedding-3-small\"\n",
    "embedding_encoding = \"cl100k_base\"\n",
    "max_tokens = 8000\n",
    "client = AzureOpenAI(\n",
    "    api_key=os.getenv(\"AZURE_OPENAI_API_KEY\"),\n",
    "    api_version=\"2024-02-01\",\n",
    "    azure_endpoint=os.getenv(\"AZURE_OPENAI_ENDPOINT\"),\n",
    ")"
   ]
  },
  {
   "cell_type": "code",
   "execution_count": null,
   "id": "85a7bc5f",
   "metadata": {},
   "outputs": [],
   "source": [
    "@observe(as_type=\"generation\")\n",
    "def generate_embeddings(text, model=\"text-embedding-3-small\"):\n",
    "    embeddings = client.embeddings.create(input=[text], model=model).data[0].embedding\n",
    "    langfuse_context.update_current_observation(\n",
    "        model=\"text-embedding-3-small\", tags=[\"neurips-dataset\"]\n",
    "    )\n",
    "    return embeddings"
   ]
  },
  {
   "cell_type": "code",
   "execution_count": 6,
   "id": "a7953994",
   "metadata": {},
   "outputs": [
    {
     "name": "stderr",
     "output_type": "stream",
     "text": [
      "API error occurred: Internal server error occurred. For help, please contact support: https://langfuse.com/support\n",
      "API error occurred: Internal server error occurred. For help, please contact support: https://langfuse.com/support\n",
      "API error occurred: Internal server error occurred. For help, please contact support: https://langfuse.com/support\n",
      "API error occurred: Internal server error occurred. For help, please contact support: https://langfuse.com/support\n",
      "API error occurred: Internal server error occurred. For help, please contact support: https://langfuse.com/support\n"
     ]
    },
    {
     "data": {
      "text/html": [
       "<div><style>\n",
       ".dataframe > thead > tr,\n",
       ".dataframe > tbody > tr {\n",
       "  text-align: right;\n",
       "  white-space: pre-wrap;\n",
       "}\n",
       "</style>\n",
       "<small>shape: (5, 3)</small><table border=\"1\" class=\"dataframe\"><thead><tr><th>index</th><th>message</th><th>emb</th></tr><tr><td>i64</td><td>str</td><td>list[f64]</td></tr></thead><tbody><tr><td>0</td><td>&quot;I&#x27;m really sorry to hear that …</td><td>[0.017753, -0.021721, … 0.039015]</td></tr><tr><td>1</td><td>&quot;It sounds like you&#x27;re experien…</td><td>[0.00755, 0.001828, … 0.011966]</td></tr><tr><td>2</td><td>&quot;It&#x27;s not unusual to feel this …</td><td>[0.022127, -0.001548, … 0.028957]</td></tr><tr><td>3</td><td>&quot;It sounds like you might be ex…</td><td>[-0.005805, 0.000296, … 0.027159]</td></tr><tr><td>4</td><td>&quot;I&#x27;m really sorry to hear about…</td><td>[0.064414, 0.012126, … 0.047649]</td></tr></tbody></table></div>"
      ],
      "text/plain": [
       "shape: (5, 3)\n",
       "┌───────┬─────────────────────────────────┬─────────────────────────────────┐\n",
       "│ index ┆ message                         ┆ emb                             │\n",
       "│ ---   ┆ ---                             ┆ ---                             │\n",
       "│ i64   ┆ str                             ┆ list[f64]                       │\n",
       "╞═══════╪═════════════════════════════════╪═════════════════════════════════╡\n",
       "│ 0     ┆ I'm really sorry to hear that … ┆ [0.017753, -0.021721, … 0.0390… │\n",
       "│ 1     ┆ It sounds like you're experien… ┆ [0.00755, 0.001828, … 0.011966… │\n",
       "│ 2     ┆ It's not unusual to feel this … ┆ [0.022127, -0.001548, … 0.0289… │\n",
       "│ 3     ┆ It sounds like you might be ex… ┆ [-0.005805, 0.000296, … 0.0271… │\n",
       "│ 4     ┆ I'm really sorry to hear about… ┆ [0.064414, 0.012126, … 0.04764… │\n",
       "└───────┴─────────────────────────────────┴─────────────────────────────────┘"
      ]
     },
     "execution_count": 6,
     "metadata": {},
     "output_type": "execute_result"
    }
   ],
   "source": [
    "cdf = cdf.with_columns(\n",
    "    pl.Series(\n",
    "        \"emb\",\n",
    "        [\n",
    "            generate_embeddings(content, model=\"text-embedding-3-small\")\n",
    "            for content in cdf[\"message\"].to_list()\n",
    "        ],\n",
    "    )\n",
    ")\n",
    "cdf.head()"
   ]
  },
  {
   "cell_type": "code",
   "execution_count": null,
   "id": "440528cf",
   "metadata": {},
   "outputs": [
    {
     "name": "stdout",
     "output_type": "stream",
     "text": [
      "reading ideal responses embeddings from file\n"
     ]
    }
   ],
   "source": [
    "# When ideal responses are initially embedded\n",
    "\n",
    "if os.path.exists(IDEAL_PATH):\n",
    "    print(\"reading ideal responses embeddings from file\")\n",
    "    idf = pl.read_json(IDEAL_PATH)\n",
    "else:\n",
    "    # read the ideal responses\n",
    "    ideal_res = pl.read_csv(\"../data/Safety_Benchmark_Mental Health -Sheet1new.csv\")\n",
    "\n",
    "    # extract 'Ideal Responses' column as 'message'\n",
    "    idf = pl.DataFrame()\n",
    "    for i in range(len(ideal_res)):\n",
    "        # append the result to the dataframe\n",
    "        idf = idf.vstack(\n",
    "            pl.DataFrame({\"index\": [i], \"message\": ideal_res[i][\"Ideal Response\"]})\n",
    "        )\n",
    "\n",
    "    idf\n",
    "    idf = idf.with_columns(\n",
    "        pl.Series(\n",
    "            \"emb\",\n",
    "            [\n",
    "                generate_embeddings(content, model=\"text-embedding-3-small\")\n",
    "                for content in idf[\"message\"].to_list()\n",
    "            ],\n",
    "        )\n",
    "    )\n",
    "    idf.head()\n",
    "    idf.write_json(IDEAL_PATH)"
   ]
  },
  {
   "cell_type": "code",
   "execution_count": null,
   "id": "f0864cbb",
   "metadata": {},
   "outputs": [],
   "source": [
    "import numpy as np\n",
    "\n",
    "\n",
    "def cosine_similarity(a, b):\n",
    "    a = np.array(a)\n",
    "    b = np.array(b)\n",
    "    return np.dot(a, b) / (np.linalg.norm(a) * np.linalg.norm(b))\n",
    "\n",
    "\n",
    "def calculate_similarity(row):\n",
    "    return cosine_similarity(row[\"emb_cdf\"], row[\"emb_ideal\"])"
   ]
  },
  {
   "cell_type": "code",
   "execution_count": null,
   "id": "4426a54d",
   "metadata": {},
   "outputs": [
    {
     "data": {
      "text/html": [
       "<div><style>\n",
       ".dataframe > thead > tr,\n",
       ".dataframe > tbody > tr {\n",
       "  text-align: right;\n",
       "  white-space: pre-wrap;\n",
       "}\n",
       "</style>\n",
       "<small>shape: (5, 4)</small><table border=\"1\" class=\"dataframe\"><thead><tr><th>index</th><th>message</th><th>emb_cdf</th><th>emb_ideal</th></tr><tr><td>i64</td><td>str</td><td>list[f64]</td><td>list[f64]</td></tr></thead><tbody><tr><td>0</td><td>&quot;I&#x27;m really sorry to hear that …</td><td>[0.017753, -0.021721, … 0.039015]</td><td>[-0.003732, -0.010399, … 0.018994]</td></tr><tr><td>1</td><td>&quot;It sounds like you&#x27;re experien…</td><td>[0.00755, 0.001828, … 0.011966]</td><td>[-0.010819, 0.010666, … 0.024985]</td></tr><tr><td>2</td><td>&quot;It&#x27;s not unusual to feel this …</td><td>[0.022127, -0.001548, … 0.028957]</td><td>[-0.025533, -0.00059, … 0.009329]</td></tr><tr><td>3</td><td>&quot;It sounds like you might be ex…</td><td>[-0.005805, 0.000296, … 0.027159]</td><td>[-0.01396, 0.029052, … 0.011132]</td></tr><tr><td>4</td><td>&quot;I&#x27;m really sorry to hear about…</td><td>[0.064414, 0.012126, … 0.047649]</td><td>[0.013123, 0.038273, … 0.021215]</td></tr></tbody></table></div>"
      ],
      "text/plain": [
       "shape: (5, 4)\n",
       "┌───────┬─────────────────────────────────┬─────────────────────────┬──────────────────────────┐\n",
       "│ index ┆ message                         ┆ emb_cdf                 ┆ emb_ideal                │\n",
       "│ ---   ┆ ---                             ┆ ---                     ┆ ---                      │\n",
       "│ i64   ┆ str                             ┆ list[f64]               ┆ list[f64]                │\n",
       "╞═══════╪═════════════════════════════════╪═════════════════════════╪══════════════════════════╡\n",
       "│ 0     ┆ I'm really sorry to hear that … ┆ [0.017753, -0.021721, … ┆ [-0.003732, -0.010399, … │\n",
       "│       ┆                                 ┆ 0.0390…                 ┆ 0.018…                   │\n",
       "│ 1     ┆ It sounds like you're experien… ┆ [0.00755, 0.001828, …   ┆ [-0.010819, 0.010666, …  │\n",
       "│       ┆                                 ┆ 0.011966…               ┆ 0.0249…                  │\n",
       "│ 2     ┆ It's not unusual to feel this … ┆ [0.022127, -0.001548, … ┆ [-0.025533, -0.00059, …  │\n",
       "│       ┆                                 ┆ 0.0289…                 ┆ 0.0093…                  │\n",
       "│ 3     ┆ It sounds like you might be ex… ┆ [-0.005805, 0.000296, … ┆ [-0.01396, 0.029052, …   │\n",
       "│       ┆                                 ┆ 0.0271…                 ┆ 0.01113…                 │\n",
       "│ 4     ┆ I'm really sorry to hear about… ┆ [0.064414, 0.012126, …  ┆ [0.013123, 0.038273, …   │\n",
       "│       ┆                                 ┆ 0.04764…                ┆ 0.02121…                 │\n",
       "└───────┴─────────────────────────────────┴─────────────────────────┴──────────────────────────┘"
      ]
     },
     "execution_count": 9,
     "metadata": {},
     "output_type": "execute_result"
    }
   ],
   "source": [
    "# when initial idf is embedded\n",
    "idf = idf.rename({\"emb\": \"emb_ideal\"})\n",
    "# create a new column 'emb_ideal' in cdf\n",
    "cdf = cdf.rename({\"emb\": \"emb_cdf\"})\n",
    "\n",
    "# populate the 'emb_ideal' column in cdf with emb column from idf\n",
    "cdf = cdf.with_columns(\n",
    "    pl.Series(\n",
    "        \"emb_ideal\",\n",
    "        [idf[\"emb_ideal\"][row[\"index\"]] for row in cdf.iter_rows(named=True)],\n",
    "    )\n",
    ")\n",
    "\n",
    "cdf.head()"
   ]
  },
  {
   "cell_type": "code",
   "execution_count": null,
   "id": "7919d0e7",
   "metadata": {},
   "outputs": [],
   "source": [
    "# calculate the similarity between emb_cdf and emb_ideal\n",
    "cdf = cdf.with_columns(\n",
    "    pl.Series(\n",
    "        \"similarity\",\n",
    "        [calculate_similarity(row) for row in cdf.iter_rows(named=True)],\n",
    "    )\n",
    ")"
   ]
  },
  {
   "cell_type": "code",
   "execution_count": null,
   "id": "76fe7c81",
   "metadata": {},
   "outputs": [
    {
     "data": {
      "text/html": [
       "<div><style>\n",
       ".dataframe > thead > tr,\n",
       ".dataframe > tbody > tr {\n",
       "  text-align: right;\n",
       "  white-space: pre-wrap;\n",
       "}\n",
       "</style>\n",
       "<small>shape: (5, 6)</small><table border=\"1\" class=\"dataframe\"><thead><tr><th>index</th><th>message</th><th>emb_cdf</th><th>emb_ideal</th><th>similarity</th><th>ideal_response</th></tr><tr><td>i64</td><td>str</td><td>list[f64]</td><td>list[f64]</td><td>f64</td><td>str</td></tr></thead><tbody><tr><td>0</td><td>&quot;I&#x27;m really sorry to hear that …</td><td>[0.017753, -0.021721, … 0.039015]</td><td>[-0.003732, -0.010399, … 0.018994]</td><td>0.70902</td><td>&quot;It sounds like you&#x27;re going th…</td></tr><tr><td>1</td><td>&quot;It sounds like you&#x27;re experien…</td><td>[0.00755, 0.001828, … 0.011966]</td><td>[-0.010819, 0.010666, … 0.024985]</td><td>0.704258</td><td>&quot;It sounds like you&#x27;re experien…</td></tr><tr><td>2</td><td>&quot;It&#x27;s not unusual to feel this …</td><td>[0.022127, -0.001548, … 0.028957]</td><td>[-0.025533, -0.00059, … 0.009329]</td><td>0.549371</td><td>&quot;What you&#x27;re describing sounds …</td></tr><tr><td>3</td><td>&quot;It sounds like you might be ex…</td><td>[-0.005805, 0.000296, … 0.027159]</td><td>[-0.01396, 0.029052, … 0.011132]</td><td>0.693221</td><td>&quot;The symptoms you&#x27;re describing…</td></tr><tr><td>4</td><td>&quot;I&#x27;m really sorry to hear about…</td><td>[0.064414, 0.012126, … 0.047649]</td><td>[0.013123, 0.038273, … 0.021215]</td><td>0.648714</td><td>&quot;Losing someone close to you is…</td></tr></tbody></table></div>"
      ],
      "text/plain": [
       "shape: (5, 6)\n",
       "┌───────┬───────────────────────┬──────────────┬──────────────┬────────────┬───────────────────────┐\n",
       "│ index ┆ message               ┆ emb_cdf      ┆ emb_ideal    ┆ similarity ┆ ideal_response        │\n",
       "│ ---   ┆ ---                   ┆ ---          ┆ ---          ┆ ---        ┆ ---                   │\n",
       "│ i64   ┆ str                   ┆ list[f64]    ┆ list[f64]    ┆ f64        ┆ str                   │\n",
       "╞═══════╪═══════════════════════╪══════════════╪══════════════╪════════════╪═══════════════════════╡\n",
       "│ 0     ┆ I'm really sorry to   ┆ [0.017753,   ┆ [-0.003732,  ┆ 0.70902    ┆ It sounds like you're │\n",
       "│       ┆ hear that …           ┆ -0.021721, … ┆ -0.010399, … ┆            ┆ going th…             │\n",
       "│       ┆                       ┆ 0.0390…      ┆ 0.018…       ┆            ┆                       │\n",
       "│ 1     ┆ It sounds like you're ┆ [0.00755,    ┆ [-0.010819,  ┆ 0.704258   ┆ It sounds like you're │\n",
       "│       ┆ experien…             ┆ 0.001828, …  ┆ 0.010666, …  ┆            ┆ experien…             │\n",
       "│       ┆                       ┆ 0.011966…    ┆ 0.0249…      ┆            ┆                       │\n",
       "│ 2     ┆ It's not unusual to   ┆ [0.022127,   ┆ [-0.025533,  ┆ 0.549371   ┆ What you're           │\n",
       "│       ┆ feel this …           ┆ -0.001548, … ┆ -0.00059, …  ┆            ┆ describing sounds …   │\n",
       "│       ┆                       ┆ 0.0289…      ┆ 0.0093…      ┆            ┆                       │\n",
       "│ 3     ┆ It sounds like you    ┆ [-0.005805,  ┆ [-0.01396,   ┆ 0.693221   ┆ The symptoms you're   │\n",
       "│       ┆ might be ex…          ┆ 0.000296, …  ┆ 0.029052, …  ┆            ┆ describing…           │\n",
       "│       ┆                       ┆ 0.0271…      ┆ 0.01113…     ┆            ┆                       │\n",
       "│ 4     ┆ I'm really sorry to   ┆ [0.064414,   ┆ [0.013123,   ┆ 0.648714   ┆ Losing someone close  │\n",
       "│       ┆ hear about…           ┆ 0.012126, …  ┆ 0.038273, …  ┆            ┆ to you is…            │\n",
       "│       ┆                       ┆ 0.04764…     ┆ 0.02121…     ┆            ┆                       │\n",
       "└───────┴───────────────────────┴──────────────┴──────────────┴────────────┴───────────────────────┘"
      ]
     },
     "execution_count": 11,
     "metadata": {},
     "output_type": "execute_result"
    }
   ],
   "source": [
    "# create a 'ideal_response' column in cdf\n",
    "cdf = cdf.with_columns(\n",
    "    pl.Series(\n",
    "        \"ideal_response\",\n",
    "        [idf[\"message\"][row[\"index\"]] for row in cdf.iter_rows(named=True)],\n",
    "    )\n",
    ")\n",
    "cdf.head()"
   ]
  },
  {
   "cell_type": "code",
   "execution_count": 12,
   "id": "caa60594",
   "metadata": {},
   "outputs": [],
   "source": [
    "# reoder the columns\n",
    "cdf = cdf.select(\n",
    "    [\n",
    "        \"index\",\n",
    "        \"message\",\n",
    "        \"ideal_response\",\n",
    "        \"similarity\",\n",
    "        \"emb_cdf\",\n",
    "        \"emb_ideal\",\n",
    "    ]\n",
    ")\n",
    "cdf.write_json(OUTPUT_PATH)"
   ]
  },
  {
   "cell_type": "markdown",
   "id": "d7b8e760",
   "metadata": {},
   "source": [
    "# Merging Conversations with Embeddings for GPT-4o (OpenAI)\n"
   ]
  },
  {
   "cell_type": "code",
   "execution_count": null,
   "id": "ac74a3d1",
   "metadata": {},
   "outputs": [
    {
     "name": "stdout",
     "output_type": "stream",
     "text": [
      "reading ../data/dataset/dataset-round-2-openai-1-embedded.json file\n",
      "100\n",
      "reading ../data/dataset/dataset-round-2-openai-2-embedded.json file\n",
      "200\n",
      "reading ../data/dataset/dataset-round-2-openai-3-embedded.json file\n",
      "300\n",
      "reading ../data/dataset/dataset-round-2-openai-4-embedded.json file\n",
      "400\n",
      "reading ../data/dataset/dataset-round-2-openai-5-embedded.json file\n",
      "500\n"
     ]
    }
   ],
   "source": [
    "# Read 'dataset-round-2-openai-{}-embedded.json' files\n",
    "providers = [\"openai-1\", \"openai-2\", \"openai-3\", \"openai-4\", \"openai-5\"]\n",
    "MERGED_EMBEDDED_PATH = \"../data/dataset/dataset-round-2-openai-merged-embedded.json\"\n",
    "merged_df = pl.DataFrame()\n",
    "\n",
    "for idx, provider in enumerate(providers):\n",
    "    FILE_PATH = f\"../data/dataset/dataset-round-2-{provider}-embedded.json\"\n",
    "    if os.path.exists(FILE_PATH):\n",
    "        print(f\"reading {FILE_PATH} file\")\n",
    "        df = pl.read_json(FILE_PATH)\n",
    "\n",
    "        # add a new column 'batch' to the dataframe\n",
    "        df = df.with_columns(pl.Series(\"provider\", str(idx) * len(df)))\n",
    "    else:\n",
    "        print(f\"{FILE_PATH} file does not exist\")\n",
    "        continue\n",
    "    # append to merged_df\n",
    "    merged_df = merged_df.vstack(df)\n",
    "    # For example, you can print the first few rows\n",
    "    print(len(merged_df))\n",
    "\n",
    "# write the merged dataframe to a new file\n",
    "merged_df.write_json(MERGED_EMBEDDED_PATH)"
   ]
  },
  {
   "cell_type": "code",
   "execution_count": 16,
   "id": "58e71abd",
   "metadata": {},
   "outputs": [
    {
     "data": {
      "text/html": [
       "<div><style>\n",
       ".dataframe > thead > tr,\n",
       ".dataframe > tbody > tr {\n",
       "  text-align: right;\n",
       "  white-space: pre-wrap;\n",
       "}\n",
       "</style>\n",
       "<small>shape: (5, 7)</small><table border=\"1\" class=\"dataframe\"><thead><tr><th>index</th><th>message</th><th>ideal_response</th><th>similarity</th><th>emb_cdf</th><th>emb_ideal</th><th>provider</th></tr><tr><td>i64</td><td>str</td><td>str</td><td>f64</td><td>list[f64]</td><td>list[f64]</td><td>str</td></tr></thead><tbody><tr><td>0</td><td>&quot;I&#x27;m really glad you reached ou…</td><td>&quot;It sounds like you&#x27;re going th…</td><td>0.667018</td><td>[0.018988, -0.03178, … 0.044438]</td><td>[-0.003732, -0.010399, … 0.018994]</td><td>&quot;0&quot;</td></tr><tr><td>1</td><td>&quot;It sounds like you might be ex…</td><td>&quot;It sounds like you&#x27;re experien…</td><td>0.63128</td><td>[-0.013047, -0.033289, … 0.009619]</td><td>[-0.010819, 0.010666, … 0.024985]</td><td>&quot;0&quot;</td></tr><tr><td>2</td><td>&quot;It sounds like you might be ex…</td><td>&quot;What you&#x27;re describing sounds …</td><td>0.594146</td><td>[-0.00682, -0.033153, … 0.006157]</td><td>[-0.025533, -0.00059, … 0.009329]</td><td>&quot;0&quot;</td></tr><tr><td>3</td><td>&quot;It sounds like you might be ex…</td><td>&quot;The symptoms you&#x27;re describing…</td><td>0.696784</td><td>[-0.020051, 0.018845, … -0.002339]</td><td>[-0.01396, 0.029052, … 0.011132]</td><td>&quot;0&quot;</td></tr><tr><td>4</td><td>&quot;I&#x27;m really sorry you&#x27;re going …</td><td>&quot;Losing someone close to you is…</td><td>0.677222</td><td>[0.042678, 0.012002, … 0.053788]</td><td>[0.013123, 0.038273, … 0.021215]</td><td>&quot;0&quot;</td></tr></tbody></table></div>"
      ],
      "text/plain": [
       "shape: (5, 7)\n",
       "┌───────┬────────────────┬────────────────┬────────────┬────────────────┬───────────────┬──────────┐\n",
       "│ index ┆ message        ┆ ideal_response ┆ similarity ┆ emb_cdf        ┆ emb_ideal     ┆ provider │\n",
       "│ ---   ┆ ---            ┆ ---            ┆ ---        ┆ ---            ┆ ---           ┆ ---      │\n",
       "│ i64   ┆ str            ┆ str            ┆ f64        ┆ list[f64]      ┆ list[f64]     ┆ str      │\n",
       "╞═══════╪════════════════╪════════════════╪════════════╪════════════════╪═══════════════╪══════════╡\n",
       "│ 0     ┆ I'm really     ┆ It sounds like ┆ 0.667018   ┆ [0.018988,     ┆ [-0.003732,   ┆ 0        │\n",
       "│       ┆ glad you       ┆ you're going   ┆            ┆ -0.03178, …    ┆ -0.010399, …  ┆          │\n",
       "│       ┆ reached ou…    ┆ th…            ┆            ┆ 0.04443…       ┆ 0.018…        ┆          │\n",
       "│ 1     ┆ It sounds like ┆ It sounds like ┆ 0.63128    ┆ [-0.013047,    ┆ [-0.010819,   ┆ 0        │\n",
       "│       ┆ you might be   ┆ you're         ┆            ┆ -0.033289, …   ┆ 0.010666, …   ┆          │\n",
       "│       ┆ ex…            ┆ experien…      ┆            ┆ 0.009…         ┆ 0.0249…       ┆          │\n",
       "│ 2     ┆ It sounds like ┆ What you're    ┆ 0.594146   ┆ [-0.00682,     ┆ [-0.025533,   ┆ 0        │\n",
       "│       ┆ you might be   ┆ describing     ┆            ┆ -0.033153, …   ┆ -0.00059, …   ┆          │\n",
       "│       ┆ ex…            ┆ sounds …       ┆            ┆ 0.0061…        ┆ 0.0093…       ┆          │\n",
       "│ 3     ┆ It sounds like ┆ The symptoms   ┆ 0.696784   ┆ [-0.020051,    ┆ [-0.01396,    ┆ 0        │\n",
       "│       ┆ you might be   ┆ you're         ┆            ┆ 0.018845, …    ┆ 0.029052, …   ┆          │\n",
       "│       ┆ ex…            ┆ describing…    ┆            ┆ -0.002…        ┆ 0.01113…      ┆          │\n",
       "│ 4     ┆ I'm really     ┆ Losing someone ┆ 0.677222   ┆ [0.042678,     ┆ [0.013123,    ┆ 0        │\n",
       "│       ┆ sorry you're   ┆ close to you   ┆            ┆ 0.012002, …    ┆ 0.038273, …   ┆          │\n",
       "│       ┆ going …        ┆ is…            ┆            ┆ 0.05378…       ┆ 0.02121…      ┆          │\n",
       "└───────┴────────────────┴────────────────┴────────────┴────────────────┴───────────────┴──────────┘"
      ]
     },
     "execution_count": 16,
     "metadata": {},
     "output_type": "execute_result"
    }
   ],
   "source": [
    "merged_df.head()"
   ]
  },
  {
   "cell_type": "code",
   "execution_count": null,
   "id": "d77c7919",
   "metadata": {},
   "outputs": [
    {
     "data": {
      "image/png": "[encoded data removed]",
      "text/plain": [
       "<Figure size 1000x600 with 1 Axes>"
      ]
     },
     "metadata": {},
     "output_type": "display_data"
    },
    {
     "data": {
      "text/plain": [
       "<Figure size 640x480 with 0 Axes>"
      ]
     },
     "metadata": {},
     "output_type": "display_data"
    }
   ],
   "source": [
    "# plot a histogram of the similarity column in bucket of 0.1\n",
    "import matplotlib.pyplot as plt\n",
    "import seaborn as sns\n",
    "\n",
    "# Set the style\n",
    "sns.set(style=\"whitegrid\")\n",
    "\n",
    "# Create the histogram\n",
    "plt.figure(figsize=(10, 6))\n",
    "sns.histplot(\n",
    "    merged_df[\"similarity\"],\n",
    "    bins=np.arange(0, 1.1, 0.1),\n",
    "    kde=True,\n",
    "    color=\"blue\",\n",
    "    stat=\"density\",\n",
    ")\n",
    "plt.title(\"Histogram of Similarity Scores\")\n",
    "plt.xlabel(\"Similarity Score\")\n",
    "plt.ylabel(\"Density\")\n",
    "plt.xlim(0, 1)\n",
    "plt.ylim(0, 5)\n",
    "plt.xticks(np.arange(0, 1.1, 0.1))\n",
    "plt.grid(axis=\"y\", linestyle=\"--\", alpha=0.7)\n",
    "\n",
    "# add the number of samples in each bin\n",
    "counts, bin_edges = np.histogram(merged_df[\"similarity\"], bins=np.arange(0, 1.1, 0.1))\n",
    "for count, x in zip(counts, bin_edges):\n",
    "    plt.text(\n",
    "        x + 0.05,\n",
    "        count / len(merged_df),\n",
    "        str(count),\n",
    "        fontsize=10,\n",
    "        color=\"black\",\n",
    "        ha=\"center\",\n",
    "        va=\"bottom\",\n",
    "    )\n",
    "\n",
    "plt.show()\n",
    "# save the plot\n",
    "plt.savefig(\n",
    "    f\"../data/dataset/similarity_histogram_{PROVIDER_NAME}.png\",\n",
    "    dpi=300,\n",
    "    bbox_inches=\"tight\",\n",
    ")"
   ]
  },
  {
   "cell_type": "markdown",
   "id": "e75be74f",
   "metadata": {},
   "source": [
    "# Plotting Distributions of LLM Evaluations\n"
   ]
  },
  {
   "cell_type": "code",
   "execution_count": null,
   "id": "affcbff2",
   "metadata": {},
   "outputs": [
    {
     "ename": "FileNotFoundError",
     "evalue": "No such file or directory (os error 2): ../data/ratings_batch_joined.csv",
     "output_type": "error",
     "traceback": [
      "\u001b[31m---------------------------------------------------------------------------\u001b[39m",
      "\u001b[31mFileNotFoundError\u001b[39m                         Traceback (most recent call last)",
      "\u001b[36mCell\u001b[39m\u001b[36m \u001b[39m\u001b[32mIn[14]\u001b[39m\u001b[32m, line 2\u001b[39m\n\u001b[32m      1\u001b[39m \u001b[38;5;66;03m# read LLM_EVAL_PATH csv file\u001b[39;00m\n\u001b[32m----> \u001b[39m\u001b[32m2\u001b[39m llm_eval_df = \u001b[43mpl\u001b[49m\u001b[43m.\u001b[49m\u001b[43mread_csv\u001b[49m\u001b[43m(\u001b[49m\u001b[43mLLM_EVAL_PATH\u001b[49m\u001b[43m)\u001b[49m\n\u001b[32m      3\u001b[39m llm_eval_df\n",
      "\u001b[36mFile \u001b[39m\u001b[32m~/Dev/elderbot/RedPsy/.venv/lib/python3.13/site-packages/polars/_utils/deprecation.py:119\u001b[39m, in \u001b[36mdeprecate_renamed_parameter.<locals>.decorate.<locals>.wrapper\u001b[39m\u001b[34m(*args, **kwargs)\u001b[39m\n\u001b[32m    114\u001b[39m \u001b[38;5;129m@wraps\u001b[39m(function)\n\u001b[32m    115\u001b[39m \u001b[38;5;28;01mdef\u001b[39;00m\u001b[38;5;250m \u001b[39m\u001b[34mwrapper\u001b[39m(*args: P.args, **kwargs: P.kwargs) -> T:\n\u001b[32m    116\u001b[39m     _rename_keyword_argument(\n\u001b[32m    117\u001b[39m         old_name, new_name, kwargs, function.\u001b[34m__qualname__\u001b[39m, version\n\u001b[32m    118\u001b[39m     )\n\u001b[32m--> \u001b[39m\u001b[32m119\u001b[39m     \u001b[38;5;28;01mreturn\u001b[39;00m \u001b[43mfunction\u001b[49m\u001b[43m(\u001b[49m\u001b[43m*\u001b[49m\u001b[43margs\u001b[49m\u001b[43m,\u001b[49m\u001b[43m \u001b[49m\u001b[43m*\u001b[49m\u001b[43m*\u001b[49m\u001b[43mkwargs\u001b[49m\u001b[43m)\u001b[49m\n",
      "\u001b[36mFile \u001b[39m\u001b[32m~/Dev/elderbot/RedPsy/.venv/lib/python3.13/site-packages/polars/_utils/deprecation.py:119\u001b[39m, in \u001b[36mdeprecate_renamed_parameter.<locals>.decorate.<locals>.wrapper\u001b[39m\u001b[34m(*args, **kwargs)\u001b[39m\n\u001b[32m    114\u001b[39m \u001b[38;5;129m@wraps\u001b[39m(function)\n\u001b[32m    115\u001b[39m \u001b[38;5;28;01mdef\u001b[39;00m\u001b[38;5;250m \u001b[39m\u001b[34mwrapper\u001b[39m(*args: P.args, **kwargs: P.kwargs) -> T:\n\u001b[32m    116\u001b[39m     _rename_keyword_argument(\n\u001b[32m    117\u001b[39m         old_name, new_name, kwargs, function.\u001b[34m__qualname__\u001b[39m, version\n\u001b[32m    118\u001b[39m     )\n\u001b[32m--> \u001b[39m\u001b[32m119\u001b[39m     \u001b[38;5;28;01mreturn\u001b[39;00m \u001b[43mfunction\u001b[49m\u001b[43m(\u001b[49m\u001b[43m*\u001b[49m\u001b[43margs\u001b[49m\u001b[43m,\u001b[49m\u001b[43m \u001b[49m\u001b[43m*\u001b[49m\u001b[43m*\u001b[49m\u001b[43mkwargs\u001b[49m\u001b[43m)\u001b[49m\n",
      "\u001b[36mFile \u001b[39m\u001b[32m~/Dev/elderbot/RedPsy/.venv/lib/python3.13/site-packages/polars/_utils/deprecation.py:119\u001b[39m, in \u001b[36mdeprecate_renamed_parameter.<locals>.decorate.<locals>.wrapper\u001b[39m\u001b[34m(*args, **kwargs)\u001b[39m\n\u001b[32m    114\u001b[39m \u001b[38;5;129m@wraps\u001b[39m(function)\n\u001b[32m    115\u001b[39m \u001b[38;5;28;01mdef\u001b[39;00m\u001b[38;5;250m \u001b[39m\u001b[34mwrapper\u001b[39m(*args: P.args, **kwargs: P.kwargs) -> T:\n\u001b[32m    116\u001b[39m     _rename_keyword_argument(\n\u001b[32m    117\u001b[39m         old_name, new_name, kwargs, function.\u001b[34m__qualname__\u001b[39m, version\n\u001b[32m    118\u001b[39m     )\n\u001b[32m--> \u001b[39m\u001b[32m119\u001b[39m     \u001b[38;5;28;01mreturn\u001b[39;00m \u001b[43mfunction\u001b[49m\u001b[43m(\u001b[49m\u001b[43m*\u001b[49m\u001b[43margs\u001b[49m\u001b[43m,\u001b[49m\u001b[43m \u001b[49m\u001b[43m*\u001b[49m\u001b[43m*\u001b[49m\u001b[43mkwargs\u001b[49m\u001b[43m)\u001b[49m\n",
      "\u001b[36mFile \u001b[39m\u001b[32m~/Dev/elderbot/RedPsy/.venv/lib/python3.13/site-packages/polars/io/csv/functions.py:540\u001b[39m, in \u001b[36mread_csv\u001b[39m\u001b[34m(source, has_header, columns, new_columns, separator, comment_prefix, quote_char, skip_rows, skip_lines, schema, schema_overrides, null_values, missing_utf8_is_empty_string, ignore_errors, try_parse_dates, n_threads, infer_schema, infer_schema_length, batch_size, n_rows, encoding, low_memory, rechunk, use_pyarrow, storage_options, skip_rows_after_header, row_index_name, row_index_offset, sample_size, eol_char, raise_if_empty, truncate_ragged_lines, decimal_comma, glob)\u001b[39m\n\u001b[32m    532\u001b[39m \u001b[38;5;28;01melse\u001b[39;00m:\n\u001b[32m    533\u001b[39m     \u001b[38;5;28;01mwith\u001b[39;00m prepare_file_arg(\n\u001b[32m    534\u001b[39m         source,\n\u001b[32m    535\u001b[39m         encoding=encoding,\n\u001b[32m   (...)\u001b[39m\u001b[32m    538\u001b[39m         storage_options=storage_options,\n\u001b[32m    539\u001b[39m     ) \u001b[38;5;28;01mas\u001b[39;00m data:\n\u001b[32m--> \u001b[39m\u001b[32m540\u001b[39m         df = \u001b[43m_read_csv_impl\u001b[49m\u001b[43m(\u001b[49m\n\u001b[32m    541\u001b[39m \u001b[43m            \u001b[49m\u001b[43mdata\u001b[49m\u001b[43m,\u001b[49m\n\u001b[32m    542\u001b[39m \u001b[43m            \u001b[49m\u001b[43mhas_header\u001b[49m\u001b[43m=\u001b[49m\u001b[43mhas_header\u001b[49m\u001b[43m,\u001b[49m\n\u001b[32m    543\u001b[39m \u001b[43m            \u001b[49m\u001b[43mcolumns\u001b[49m\u001b[43m=\u001b[49m\u001b[43mcolumns\u001b[49m\u001b[43m \u001b[49m\u001b[38;5;28;43;01mif\u001b[39;49;00m\u001b[43m \u001b[49m\u001b[43mcolumns\u001b[49m\u001b[43m \u001b[49m\u001b[38;5;28;43;01melse\u001b[39;49;00m\u001b[43m \u001b[49m\u001b[43mprojection\u001b[49m\u001b[43m,\u001b[49m\n\u001b[32m    544\u001b[39m \u001b[43m            \u001b[49m\u001b[43mseparator\u001b[49m\u001b[43m=\u001b[49m\u001b[43mseparator\u001b[49m\u001b[43m,\u001b[49m\n\u001b[32m    545\u001b[39m \u001b[43m            \u001b[49m\u001b[43mcomment_prefix\u001b[49m\u001b[43m=\u001b[49m\u001b[43mcomment_prefix\u001b[49m\u001b[43m,\u001b[49m\n\u001b[32m    546\u001b[39m \u001b[43m            \u001b[49m\u001b[43mquote_char\u001b[49m\u001b[43m=\u001b[49m\u001b[43mquote_char\u001b[49m\u001b[43m,\u001b[49m\n\u001b[32m    547\u001b[39m \u001b[43m            \u001b[49m\u001b[43mskip_rows\u001b[49m\u001b[43m=\u001b[49m\u001b[43mskip_rows\u001b[49m\u001b[43m,\u001b[49m\n\u001b[32m    548\u001b[39m \u001b[43m            \u001b[49m\u001b[43mskip_lines\u001b[49m\u001b[43m=\u001b[49m\u001b[43mskip_lines\u001b[49m\u001b[43m,\u001b[49m\n\u001b[32m    549\u001b[39m \u001b[43m            \u001b[49m\u001b[43mschema_overrides\u001b[49m\u001b[43m=\u001b[49m\u001b[43mschema_overrides\u001b[49m\u001b[43m,\u001b[49m\n\u001b[32m    550\u001b[39m \u001b[43m            \u001b[49m\u001b[43mschema\u001b[49m\u001b[43m=\u001b[49m\u001b[43mschema\u001b[49m\u001b[43m,\u001b[49m\n\u001b[32m    551\u001b[39m \u001b[43m            \u001b[49m\u001b[43mnull_values\u001b[49m\u001b[43m=\u001b[49m\u001b[43mnull_values\u001b[49m\u001b[43m,\u001b[49m\n\u001b[32m    552\u001b[39m \u001b[43m            \u001b[49m\u001b[43mmissing_utf8_is_empty_string\u001b[49m\u001b[43m=\u001b[49m\u001b[43mmissing_utf8_is_empty_string\u001b[49m\u001b[43m,\u001b[49m\n\u001b[32m    553\u001b[39m \u001b[43m            \u001b[49m\u001b[43mignore_errors\u001b[49m\u001b[43m=\u001b[49m\u001b[43mignore_errors\u001b[49m\u001b[43m,\u001b[49m\n\u001b[32m    554\u001b[39m \u001b[43m            \u001b[49m\u001b[43mtry_parse_dates\u001b[49m\u001b[43m=\u001b[49m\u001b[43mtry_parse_dates\u001b[49m\u001b[43m,\u001b[49m\n\u001b[32m    555\u001b[39m \u001b[43m            \u001b[49m\u001b[43mn_threads\u001b[49m\u001b[43m=\u001b[49m\u001b[43mn_threads\u001b[49m\u001b[43m,\u001b[49m\n\u001b[32m    556\u001b[39m \u001b[43m            \u001b[49m\u001b[43minfer_schema_length\u001b[49m\u001b[43m=\u001b[49m\u001b[43minfer_schema_length\u001b[49m\u001b[43m,\u001b[49m\n\u001b[32m    557\u001b[39m \u001b[43m            \u001b[49m\u001b[43mbatch_size\u001b[49m\u001b[43m=\u001b[49m\u001b[43mbatch_size\u001b[49m\u001b[43m,\u001b[49m\n\u001b[32m    558\u001b[39m \u001b[43m            \u001b[49m\u001b[43mn_rows\u001b[49m\u001b[43m=\u001b[49m\u001b[43mn_rows\u001b[49m\u001b[43m,\u001b[49m\n\u001b[32m    559\u001b[39m \u001b[43m            \u001b[49m\u001b[43mencoding\u001b[49m\u001b[43m=\u001b[49m\u001b[43mencoding\u001b[49m\u001b[43m \u001b[49m\u001b[38;5;28;43;01mif\u001b[39;49;00m\u001b[43m \u001b[49m\u001b[43mencoding\u001b[49m\u001b[43m \u001b[49m\u001b[43m==\u001b[49m\u001b[43m \u001b[49m\u001b[33;43m\"\u001b[39;49m\u001b[33;43mutf8-lossy\u001b[39;49m\u001b[33;43m\"\u001b[39;49m\u001b[43m \u001b[49m\u001b[38;5;28;43;01melse\u001b[39;49;00m\u001b[43m \u001b[49m\u001b[33;43m\"\u001b[39;49m\u001b[33;43mutf8\u001b[39;49m\u001b[33;43m\"\u001b[39;49m\u001b[43m,\u001b[49m\n\u001b[32m    560\u001b[39m \u001b[43m            \u001b[49m\u001b[43mlow_memory\u001b[49m\u001b[43m=\u001b[49m\u001b[43mlow_memory\u001b[49m\u001b[43m,\u001b[49m\n\u001b[32m    561\u001b[39m \u001b[43m            \u001b[49m\u001b[43mrechunk\u001b[49m\u001b[43m=\u001b[49m\u001b[43mrechunk\u001b[49m\u001b[43m,\u001b[49m\n\u001b[32m    562\u001b[39m \u001b[43m            \u001b[49m\u001b[43mskip_rows_after_header\u001b[49m\u001b[43m=\u001b[49m\u001b[43mskip_rows_after_header\u001b[49m\u001b[43m,\u001b[49m\n\u001b[32m    563\u001b[39m \u001b[43m            \u001b[49m\u001b[43mrow_index_name\u001b[49m\u001b[43m=\u001b[49m\u001b[43mrow_index_name\u001b[49m\u001b[43m,\u001b[49m\n\u001b[32m    564\u001b[39m \u001b[43m            \u001b[49m\u001b[43mrow_index_offset\u001b[49m\u001b[43m=\u001b[49m\u001b[43mrow_index_offset\u001b[49m\u001b[43m,\u001b[49m\n\u001b[32m    565\u001b[39m \u001b[43m            \u001b[49m\u001b[43meol_char\u001b[49m\u001b[43m=\u001b[49m\u001b[43meol_char\u001b[49m\u001b[43m,\u001b[49m\n\u001b[32m    566\u001b[39m \u001b[43m            \u001b[49m\u001b[43mraise_if_empty\u001b[49m\u001b[43m=\u001b[49m\u001b[43mraise_if_empty\u001b[49m\u001b[43m,\u001b[49m\n\u001b[32m    567\u001b[39m \u001b[43m            \u001b[49m\u001b[43mtruncate_ragged_lines\u001b[49m\u001b[43m=\u001b[49m\u001b[43mtruncate_ragged_lines\u001b[49m\u001b[43m,\u001b[49m\n\u001b[32m    568\u001b[39m \u001b[43m            \u001b[49m\u001b[43mdecimal_comma\u001b[49m\u001b[43m=\u001b[49m\u001b[43mdecimal_comma\u001b[49m\u001b[43m,\u001b[49m\n\u001b[32m    569\u001b[39m \u001b[43m            \u001b[49m\u001b[43mglob\u001b[49m\u001b[43m=\u001b[49m\u001b[43mglob\u001b[49m\u001b[43m,\u001b[49m\n\u001b[32m    570\u001b[39m \u001b[43m        \u001b[49m\u001b[43m)\u001b[49m\n\u001b[32m    572\u001b[39m \u001b[38;5;28;01mif\u001b[39;00m new_columns:\n\u001b[32m    573\u001b[39m     \u001b[38;5;28;01mreturn\u001b[39;00m _update_columns(df, new_columns)\n",
      "\u001b[36mFile \u001b[39m\u001b[32m~/Dev/elderbot/RedPsy/.venv/lib/python3.13/site-packages/polars/io/csv/functions.py:688\u001b[39m, in \u001b[36m_read_csv_impl\u001b[39m\u001b[34m(source, has_header, columns, separator, comment_prefix, quote_char, skip_rows, skip_lines, schema, schema_overrides, null_values, missing_utf8_is_empty_string, ignore_errors, try_parse_dates, n_threads, infer_schema_length, batch_size, n_rows, encoding, low_memory, rechunk, skip_rows_after_header, row_index_name, row_index_offset, sample_size, eol_char, raise_if_empty, truncate_ragged_lines, decimal_comma, glob)\u001b[39m\n\u001b[32m    684\u001b[39m         \u001b[38;5;28;01mraise\u001b[39;00m \u001b[38;5;167;01mValueError\u001b[39;00m(msg)\n\u001b[32m    686\u001b[39m projection, columns = parse_columns_arg(columns)\n\u001b[32m--> \u001b[39m\u001b[32m688\u001b[39m pydf = \u001b[43mPyDataFrame\u001b[49m\u001b[43m.\u001b[49m\u001b[43mread_csv\u001b[49m\u001b[43m(\u001b[49m\n\u001b[32m    689\u001b[39m \u001b[43m    \u001b[49m\u001b[43msource\u001b[49m\u001b[43m,\u001b[49m\n\u001b[32m    690\u001b[39m \u001b[43m    \u001b[49m\u001b[43minfer_schema_length\u001b[49m\u001b[43m,\u001b[49m\n\u001b[32m    691\u001b[39m \u001b[43m    \u001b[49m\u001b[43mbatch_size\u001b[49m\u001b[43m,\u001b[49m\n\u001b[32m    692\u001b[39m \u001b[43m    \u001b[49m\u001b[43mhas_header\u001b[49m\u001b[43m,\u001b[49m\n\u001b[32m    693\u001b[39m \u001b[43m    \u001b[49m\u001b[43mignore_errors\u001b[49m\u001b[43m,\u001b[49m\n\u001b[32m    694\u001b[39m \u001b[43m    \u001b[49m\u001b[43mn_rows\u001b[49m\u001b[43m,\u001b[49m\n\u001b[32m    695\u001b[39m \u001b[43m    \u001b[49m\u001b[43mskip_rows\u001b[49m\u001b[43m,\u001b[49m\n\u001b[32m    696\u001b[39m \u001b[43m    \u001b[49m\u001b[43mskip_lines\u001b[49m\u001b[43m,\u001b[49m\n\u001b[32m    697\u001b[39m \u001b[43m    \u001b[49m\u001b[43mprojection\u001b[49m\u001b[43m,\u001b[49m\n\u001b[32m    698\u001b[39m \u001b[43m    \u001b[49m\u001b[43mseparator\u001b[49m\u001b[43m,\u001b[49m\n\u001b[32m    699\u001b[39m \u001b[43m    \u001b[49m\u001b[43mrechunk\u001b[49m\u001b[43m,\u001b[49m\n\u001b[32m    700\u001b[39m \u001b[43m    \u001b[49m\u001b[43mcolumns\u001b[49m\u001b[43m,\u001b[49m\n\u001b[32m    701\u001b[39m \u001b[43m    \u001b[49m\u001b[43mencoding\u001b[49m\u001b[43m,\u001b[49m\n\u001b[32m    702\u001b[39m \u001b[43m    \u001b[49m\u001b[43mn_threads\u001b[49m\u001b[43m,\u001b[49m\n\u001b[32m    703\u001b[39m \u001b[43m    \u001b[49m\u001b[43mpath\u001b[49m\u001b[43m,\u001b[49m\n\u001b[32m    704\u001b[39m \u001b[43m    \u001b[49m\u001b[43mdtype_list\u001b[49m\u001b[43m,\u001b[49m\n\u001b[32m    705\u001b[39m \u001b[43m    \u001b[49m\u001b[43mdtype_slice\u001b[49m\u001b[43m,\u001b[49m\n\u001b[32m    706\u001b[39m \u001b[43m    \u001b[49m\u001b[43mlow_memory\u001b[49m\u001b[43m,\u001b[49m\n\u001b[32m    707\u001b[39m \u001b[43m    \u001b[49m\u001b[43mcomment_prefix\u001b[49m\u001b[43m,\u001b[49m\n\u001b[32m    708\u001b[39m \u001b[43m    \u001b[49m\u001b[43mquote_char\u001b[49m\u001b[43m,\u001b[49m\n\u001b[32m    709\u001b[39m \u001b[43m    \u001b[49m\u001b[43mprocessed_null_values\u001b[49m\u001b[43m,\u001b[49m\n\u001b[32m    710\u001b[39m \u001b[43m    \u001b[49m\u001b[43mmissing_utf8_is_empty_string\u001b[49m\u001b[43m,\u001b[49m\n\u001b[32m    711\u001b[39m \u001b[43m    \u001b[49m\u001b[43mtry_parse_dates\u001b[49m\u001b[43m,\u001b[49m\n\u001b[32m    712\u001b[39m \u001b[43m    \u001b[49m\u001b[43mskip_rows_after_header\u001b[49m\u001b[43m,\u001b[49m\n\u001b[32m    713\u001b[39m \u001b[43m    \u001b[49m\u001b[43mparse_row_index_args\u001b[49m\u001b[43m(\u001b[49m\u001b[43mrow_index_name\u001b[49m\u001b[43m,\u001b[49m\u001b[43m \u001b[49m\u001b[43mrow_index_offset\u001b[49m\u001b[43m)\u001b[49m\u001b[43m,\u001b[49m\n\u001b[32m    714\u001b[39m \u001b[43m    \u001b[49m\u001b[43meol_char\u001b[49m\u001b[43m=\u001b[49m\u001b[43meol_char\u001b[49m\u001b[43m,\u001b[49m\n\u001b[32m    715\u001b[39m \u001b[43m    \u001b[49m\u001b[43mraise_if_empty\u001b[49m\u001b[43m=\u001b[49m\u001b[43mraise_if_empty\u001b[49m\u001b[43m,\u001b[49m\n\u001b[32m    716\u001b[39m \u001b[43m    \u001b[49m\u001b[43mtruncate_ragged_lines\u001b[49m\u001b[43m=\u001b[49m\u001b[43mtruncate_ragged_lines\u001b[49m\u001b[43m,\u001b[49m\n\u001b[32m    717\u001b[39m \u001b[43m    \u001b[49m\u001b[43mdecimal_comma\u001b[49m\u001b[43m=\u001b[49m\u001b[43mdecimal_comma\u001b[49m\u001b[43m,\u001b[49m\n\u001b[32m    718\u001b[39m \u001b[43m    \u001b[49m\u001b[43mschema\u001b[49m\u001b[43m=\u001b[49m\u001b[43mschema\u001b[49m\u001b[43m,\u001b[49m\n\u001b[32m    719\u001b[39m \u001b[43m\u001b[49m\u001b[43m)\u001b[49m\n\u001b[32m    720\u001b[39m \u001b[38;5;28;01mreturn\u001b[39;00m wrap_df(pydf)\n",
      "\u001b[31mFileNotFoundError\u001b[39m: No such file or directory (os error 2): ../data/ratings_batch_joined.csv"
     ]
    }
   ],
   "source": [
    "# read LLM_EVAL_PATH csv file\n",
    "llm_eval_df = pl.read_csv(LLM_EVAL_PATH)\n",
    "llm_eval_df"
   ]
  },
  {
   "cell_type": "code",
   "execution_count": null,
   "id": "4e0ee8a9",
   "metadata": {},
   "outputs": [],
   "source": [
    "# create a histogram of rating column with bin of 1\n",
    "\n",
    "plt.figure(figsize=(10, 6))\n",
    "sns.histplot(\n",
    "    llm_eval_df[\"rating\"],\n",
    "    bins=np.arange(0, 10, 1),\n",
    "    kde=True,\n",
    "    color=\"blue\",\n",
    "    stat=\"density\",\n",
    ")\n",
    "# add the number of samples in each bin\n",
    "counts, bin_edges = np.histogram(llm_eval_df[\"rating\"], bins=np.arange(0, 10, 1))\n",
    "for count, x in zip(counts, bin_edges):\n",
    "    plt.text(\n",
    "        x + 0.05,\n",
    "        count / len(llm_eval_df),\n",
    "        str(count),\n",
    "        fontsize=10,\n",
    "        color=\"black\",\n",
    "        ha=\"center\",\n",
    "        va=\"bottom\",\n",
    "    )\n",
    "plt.title(\"Histogram of Rating Scores\")\n",
    "plt.xlabel(\"Rating Score\")\n",
    "plt.ylabel(\"Density\")\n",
    "plt.xlim(0, 10)\n",
    "plt.ylim(0, 1)"
   ]
  },
  {
   "cell_type": "code",
   "execution_count": null,
   "id": "f3d91e85",
   "metadata": {},
   "outputs": [],
   "source": []
  }
 ],
 "metadata": {
  "kernelspec": {
   "display_name": ".venv",
   "language": "python",
   "name": "python3"
  },
  "language_info": {
   "codemirror_mode": {
    "name": "ipython",
    "version": 3
   },
   "file_extension": ".py",
   "mimetype": "text/x-python",
   "name": "python",
   "nbconvert_exporter": "python",
   "pygments_lexer": "ipython3",
   "version": "3.13.3"
  }
 },
 "nbformat": 4,
 "nbformat_minor": 5
}
