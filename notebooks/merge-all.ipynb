{
 "cells": [
  {
   "cell_type": "code",
   "execution_count": 10,
   "id": "80338f84",
   "metadata": {},
   "outputs": [],
   "source": [
    "import polars as pl\n",
    "\n",
    "df = pl.read_json(\"data/dataset/dataset-3.json\")\n",
    "df3 = df.with_columns(  # Drop api_version first\n",
    "    pl.int_range(500, 500 + pl.len()).alias(\"id\"),  # Add id column\n",
    ")\n",
    "df2 = pl.read_json(\"data/dataset/dataset-2.json\")\n",
    "\n",
    "df23 = pl.concat([df2, df3], how=\"vertical\")\n",
    "df23.write_json(\"data/dataset/dataset-23.json\")"
   ]
  }
 ],
 "metadata": {
  "kernelspec": {
   "display_name": ".venv",
   "language": "python",
   "name": "python3"
  },
  "language_info": {
   "codemirror_mode": {
    "name": "ipython",
    "version": 3
   },
   "file_extension": ".py",
   "mimetype": "text/x-python",
   "name": "python",
   "nbconvert_exporter": "python",
   "pygments_lexer": "ipython3",
   "version": "3.13.3"
  }
 },
 "nbformat": 4,
 "nbformat_minor": 5
}
